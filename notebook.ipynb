{
 "cells": [
  {
   "cell_type": "markdown",
   "metadata": {},
   "source": [
    "Here is my first Binder notebook. Try running the cell below by pressing shift+enter"
   ]
  },
  {
   "cell_type": "code",
   "execution_count": 1,
   "metadata": {},
   "outputs": [
    {
     "name": "stdout",
     "output_type": "stream",
     "text": [
      "Hello from notebook\n"
     ]
    }
   ],
   "source": [
    "print(\"Hello from notebook\")"
   ]
  },
  {
   "cell_type": "code",
   "execution_count": null,
   "metadata": {},
   "outputs": [],
   "source": [
    "from factorial import factorial\n",
    "\n",
    "x = 6\n",
    "f = factorial(x)\n",
    "print(str(x), \"! = \", str(f))"
   ]
  },
  {
   "cell_type": "code",
   "execution_count": null,
   "metadata": {},
   "outputs": [],
   "source": [
    "import pandas as pd\n",
    "fileI = \"C:\\\\Users\\\\PeterLing\\\\Box\\\\02 - Shared\\\\Data Processing Tool Dev\\\\Input Data Examples\\\\AU2_0101\\\\AU2_0000.RND\"\n",
    "data = pd.read_csv(fileI)\n",
    "print(data.summary)"
   ]
  }
 ],
 "metadata": {
  "kernelspec": {
   "display_name": "Python 3",
   "language": "python",
   "name": "python3"
  },
  "language_info": {
   "codemirror_mode": {
    "name": "ipython",
    "version": 3
   },
   "file_extension": ".py",
   "mimetype": "text/x-python",
   "name": "python",
   "nbconvert_exporter": "python",
   "pygments_lexer": "ipython3",
   "version": "3.7.3"
  }
 },
 "nbformat": 4,
 "nbformat_minor": 4
}
